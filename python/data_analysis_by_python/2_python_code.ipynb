{
 "cells": [
  {
   "cell_type": "code",
   "execution_count": 5,
   "metadata": {},
   "outputs": [
    {
     "name": "stdout",
     "output_type": "stream",
     "text": [
      "43251.0\n",
      "43257.0\n"
     ]
    }
   ],
   "source": [
    "\n",
    "import xlrd\n",
    "import xlwt\n",
    "import datetime\n",
    "nb=xlwt.Workbook()\n",
    "ns=nb.add_sheet(\"sakib\")\n",
    "wb=xlrd.open_workbook(\"sakib.xls\")\n",
    "ws=wb.sheet_by_name(\"sakib\")\n",
    "jj=ws.cell(214,0).value\n",
    "print(jj)\n",
    "wbt=xlrd.open_workbook(\"STIsingapore.xlsx\")\n",
    "wst=wbt.sheet_by_name(\"Sheet1\")\n",
    "tmp=wst.cell(144, 0).value\n",
    "print(tmp)\n",
    "for i in range(ws.nrows):\n",
    "    for j in range(0, wst.nrows):\n",
    "        jj=ws.cell(i,0).value\n",
    "        tmp=wst.cell(j, 0).value\n",
    "        if(jj==tmp):\n",
    "            dt=wst.cell(j, 4).value\n",
    "            ns.write(i,0,dt)\n",
    "            break\n",
    "nb.save(\"_STIsingapore.xls\")\n"
   ]
  },
  {
   "cell_type": "code",
   "execution_count": 1,
   "metadata": {},
   "outputs": [
    {
     "name": "stdout",
     "output_type": "stream",
     "text": [
      "8\n"
     ]
    }
   ],
   "source": [
    "a=3\n",
    "def fun(x):\n",
    "    return a+x\n",
    "print(fun(5) )"
   ]
  },
  {
   "cell_type": "code",
   "execution_count": null,
   "metadata": {},
   "outputs": [],
   "source": []
  },
  {
   "cell_type": "code",
   "execution_count": null,
   "metadata": {},
   "outputs": [],
   "source": []
  }
 ],
 "metadata": {
  "kernelspec": {
   "display_name": "Python 3",
   "language": "python",
   "name": "python3"
  },
  "language_info": {
   "codemirror_mode": {
    "name": "ipython",
    "version": 3
   },
   "file_extension": ".py",
   "mimetype": "text/x-python",
   "name": "python",
   "nbconvert_exporter": "python",
   "pygments_lexer": "ipython3",
   "version": "3.7.3"
  }
 },
 "nbformat": 4,
 "nbformat_minor": 2
}
