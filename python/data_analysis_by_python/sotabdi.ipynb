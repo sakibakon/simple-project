{
 "cells": [
  {
   "cell_type": "code",
   "execution_count": 9,
   "metadata": {},
   "outputs": [],
   "source": [
    "import xlwt\n",
    "import datetime\n",
    "import xlrd\n",
    "wb=xlwt.Workbook()\n",
    "ws=wb.add_sheet(\"sakib\")\n",
    "#ws.write(0,0,\"Date\")\n",
    "dt=datetime.date(2018, 12, 31);\n",
    "dt_last=datetime.date(2000, 1, 1);\n",
    "xx=dt.strftime(\"%d-%b-%y\")\n",
    "ws.write(0,0,xx)\n",
    "for i in range(1, 7000):\n",
    "    delta=datetime.timedelta(-1)\n",
    "    dt=dt+delta\n",
    "    xx=dt.strftime(\"%d-%b-%y\")\n",
    "    #print(xx)\n",
    "    ws.write(i,0,xx)\n",
    "    if(dt==dt_last):\n",
    "        break\n",
    "\n",
    "\n",
    "wb.save(\"date.xls\")"
   ]
  },
  {
   "cell_type": "code",
   "execution_count": 7,
   "metadata": {},
   "outputs": [
    {
     "name": "stdout",
     "output_type": "stream",
     "text": [
      "43464.0\n",
      "1970-01-01 18:04:24\n"
     ]
    }
   ],
   "source": [
    "wbt=xlrd.open_workbook(\"Egyft30.xlsx\")\n",
    "wst=wbt.sheet_by_name(\"Sheet1\")\n",
    "tmp=wst.cell(1, 0).value\n",
    "print(tmp)\n",
    "print(datetime.datetime.fromtimestamp(tmp))"
   ]
  },
  {
   "cell_type": "code",
   "execution_count": null,
   "metadata": {},
   "outputs": [],
   "source": []
  }
 ],
 "metadata": {
  "kernelspec": {
   "display_name": "Python 3",
   "language": "python",
   "name": "python3"
  },
  "language_info": {
   "codemirror_mode": {
    "name": "ipython",
    "version": 3
   },
   "file_extension": ".py",
   "mimetype": "text/x-python",
   "name": "python",
   "nbconvert_exporter": "python",
   "pygments_lexer": "ipython3",
   "version": "3.7.3"
  }
 },
 "nbformat": 4,
 "nbformat_minor": 2
}
